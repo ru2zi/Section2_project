{
  "nbformat": 4,
  "nbformat_minor": 0,
  "metadata": {
    "colab": {
      "name": "SECTION2.ipynb",
      "private_outputs": true,
      "provenance": [],
      "collapsed_sections": [],
      "mount_file_id": "1s2yTwCx4nurkivbMr-IyclzEhqtYq9ck",
      "authorship_tag": "ABX9TyPjwQogBif3pDlfj0L/8bRr",
      "include_colab_link": true
    },
    "kernelspec": {
      "name": "python3",
      "display_name": "Python 3"
    },
    "language_info": {
      "name": "python"
    }
  },
  "cells": [
    {
      "cell_type": "markdown",
      "metadata": {
        "id": "view-in-github",
        "colab_type": "text"
      },
      "source": [
        "<a href=\"https://colab.research.google.com/github/ru2zi/Section2_project/blob/main/SECTION2.ipynb\" target=\"_parent\"><img src=\"https://colab.research.google.com/assets/colab-badge.svg\" alt=\"Open In Colab\"/></a>"
      ]
    },
    {
      "cell_type": "markdown",
      "source": [
        "![image.png](data:image/png;base64,iVBORw0KGgoAAAANSUhEUgAAA1QAAAB7CAMAAABErTERAAAAAXNSR0IArs4c6QAAAARnQU1BAACxjwv8YQUAAABjUExURQAAAAAAAAAAAAAAAAAAAAAAAAAAAAAAAAAAAAAAAAAAAAAAAAAAAAAAAAAAAAAAAAAAAAAAAAAAAAAAAAAAAAAAAAAAAAAAAAAAAAAAAAAAAAAAAAAAAAAAAAAAAAAAAAAAAGZodN4AAAAgdFJOUwAIEBggKDA4QEhQWGBocHiAh4+Xn6evt7/Hz9ff5+/3v+H4wgAAAAlwSFlzAAAXEQAAFxEByibzPwAAEF9JREFUeF7tnXFjsiwUxVetra2tWq2tta36/p/y9VyuiggKpr215/z+MkO7AgcuV6A7QgghhBBCCCGEEEIIIYQQQgghhBBCCCGEEEIIIYQQQgghhBBCCCGEEEIIIYQQQgghhPw9ZhljPSaEhFhl3OtxC6eMmR4PwRi2NKj2ZbfbLfW4StuVqdzjfnqcRHdDnrMLn/X4Vum7GKJrZ1Yxdg96fA0kKGVoUd3jBxqycJV9/a7HVdqujGOa9cRTOZrhfnKUSHdD3rML/Q93O/RTDHd3j1lBTOQIN4yocpHJLkaCPf2Y/pI1Pv5W5f8WVVmv/66oxMB26sWMPiPEi6bpS1Q/2W3MPf221IhMdjES7OnH9F12l7wUqlBUejwgnUWlX3jZaZp/TlTbzO180mOboD0TxCUqIOlCjwuS8/DmRTWarza7nb+7paiSnv7+bXfMLv9w6sPNiKo0tErQnhd8007yeP5/FhV+3kWfIUpU0/cDvgTfy5GeLPAb8oCBtJetpmgQFcIzLfiz08tEL2mh3mDgwUJ0FNUYz2z4qcRoWkT1pEaWINlejwsScqUrFJXhTFEts5a15PtRT+f4DZHbefnRFA2iwlO30ClQmYg6JsI++03bZcklmCaqh28kz7GfoUVUQ9XMdG5SVDMdCRtw5V6PDbnhlxLV6BNf2DhPcjOighbcfhZBt6iAOPJwrsc2SaIao0aeTsedasvKyb8rqgetuAW/SHp800853mubQIn43zbVy6StQuX5dilRIcXp9Dl/uBvN3kx+VMepNyMqXObaiQeKKk7pqfTYJklUH0i8RSc3esUvH0uX8++KyuUZKU+ntX7szFfwJhcTVSC7W0Ul5vzmLt9ojY9H82ZLaRCVHocIiqqFhudpAhZVLM/AuahMhAbe9NgmRVRSnXJl3qN2fuiHVlHVEP/hpzbAHZ5zRTXLx+e+3EwBhvhrz7WLaorx1I/lIL0iWT5KF25GVJ5eaQQrYzJxioTf+sEmRVTo7TZ6nLlFyNqiq0oUlfZc51bMDpwpqpdygL41L7s7MsYtfCWSViZVLiMqXFrtmKSvsnP1ZkSF6uC8YRHbY8ZUpqlz+7mMhGJ4ylL+Wn0LcrLoqtJE9ZRXzVc9cTnOEtUURZcV3oN0V4fFGT2t8SKLnIdZFa5XVI84Wb10hAbfbiFuRlSIDjjVQTogPW4EnYzX2IRi2GQp7a5lUomqZkSLSpr7Iwri8n0Vaq8vPgBjWsx+2iLR6Zi1BFMTqvl969xbSeNeDnMTRDVDLHDmtfUiokI9ODrP/YaEVlz9ZkSFy5yWPcZKoIPr0lsrSCgGlHslL924aqSoJua6uWnuvzzd55DgKXyZD1sazJ7MN1rvd2Lw6E2blP2b+44mCmnbM1Xqx1hR3aPO5UjICMisaCBKHVhUIxRbOZg2SANbDg1uS1TOZfDIymhkGNNRZRUi8tW3D/SK1d9a4FqLKFFNVqKl43Px1us9rhb0hPyiHtvgvN/syex5nWfgaV+88i7r9/HjNZ9NHE2ed/ntMHsqB3FBb5k82JICH0ZWUogFA4sKdc7ulAwIDBctxA2JCs6H4y1hvB8hKoyoDhIbsBoTQ7yo5lnCcjYJeMC1WhHQUkWIarYxDfy31IZ8fsb7/HJhQPxe9TEMOF83+8F0KDmflTHt/TqPBBp87wFDQKW42hcADZWJ+FgOUqAXFRWag70el8hAq2xYbkZUnp9DLLP+gC7yLK8iytrvxosKRVodjEjsUcMkcF/aRPX8rlX0WNznUV8jHz9eel3UFUQaAl87hPMes+XVnOHztdYbjeZb9QIz7CBOG0uknyI7PBUoUCYYy2Q5tZnPHu8eZ3NVNK6/qKhQjepGS10oJ64NIKqlNt8BkBsJonrAVIoMDEU+9ViBBXs9Drr2j/i9XebGSJXeVIs+XlSoXk5bjBvqtY2imsxmy1U5AXNtV86Xoi/4Wq8W9TkjPWNi+R4B47RHVBqNOQRFX+rK9249gLzpWUjn7wmA+stEEh+WpRmjV8lRk+uG+NLsLio0g54LYUvpRw0gKnzRQoKo8PgRhNxACV8f8IAmMrCr1I74YkBmOsKF868VsUlUkpc5h43za6NXGUPkJFTNLpjmvjIX2IDTHlHdvezWi7aZYPez5WZXH68GGeGJ4WFIyMZWheAvEzQ+h2qkSQr0aP3uJUQFO2omG3+2FMMfF9VcNGUKw6jqx463xRcDZOMkhCego4zGnsqEosGnd9wxXRfdVYoP1QUTcfAE8nHaJ6oBkOmoR/zYWLxft4p6y0TiA66BMpKxsvQMUS00gJhR6sOnApzyZBQcmXKsOpCoftXXC+DReoizRCXuTjFHz4y7D4uy5Y0vBk9CPKc+SLP7J2I+7ZbhENl8a3Q1cEclj+vNK5y+kKikjTFen0z2clXlLRMJNulxCS63JhCeISoxpCQoKhk8eV6DwAUoZyo1iMrBLYpGUXm/6EQ+pmrBN6Yai7djzSCeGIUeimFNmqj0MAfPqTGHRlFlPtTbvPV91ORp9fmpx0ORT6Krywdni7Uxg747Q64VSjDOQ1VV3jKBEutRS9zLemd0AVHJT3jcCeTsDYmqOwspsWI6sYC4E3g3vdXZotKCaRbV1QB3C6bWXi2I2QWm8MYqsQTCXXGBBMbLxsOo6sO+0FsmyOvKnFWh6nRdQlQTnPI85lmispbXVMdmFtchqicTrt47z/Zosk+L4t8SFcYgP4iqu9NsvKLy1YEWHEeuzgR5dtpbkQ8z4+m4Klt/b5mg0toxCQMU+WYuKOgmKqzMUzDkC4pKMqoaLxHwXGVT0SAqFU+O+Ps6vzrnekVlJpedtvWuepENXz71dJqonCjYzYkKDftCghW1lUwwu2AwUb1Iv/RZycexccl/y7ka+OiWicQk3PC7rLl46kVUFmX19YkKgS9P9BT3K+t8g6j0uMLNiErGwL/eUh6virh6vKiQmU7CWxOV9lGYCVnrqmD2u7aeukVq76LSSe55g5YzMnH+osb4y8QTKJSI4K9eUDCwqFDS9Xdrcrp0qq9YVOHdZ4JY82jG+9Pa6VrqxIsKueYkhJ+g4bqgqIYZmHQD9sLtRaDRHZ84ZgPZ9LiOuACF/qp4/KISWYHmrRlPmUXlaX+ZSFd12pYD5Om73C8zutgaKDhrsE5nUeFCzysJ2FKGbhNFZW0DV/qeDn2J6symctxYxIZ4UcFpcmodTqknEBTVmc/QJ2gPZXGdtPBOjcIp5/ECSJbFJXWQsLj36cbvVvcVKBNtzr+w7mO2XKH2ZVQeI740u4sKbUq9ckv8ohR8oqgsgtq5ElH1C2K6zt0xQFDh3oCoZG6QqUcoIEcX9TMhuosqU9UuohsOScMMyCo4Er2EqOA811/Ry6z7tnbhbFE5s/Tq1Oyqc1WiQiy+2u3LivC18XtQ3tctqhH61W+T62M4gL+V+o0fHlxUd87KbT9BaYwRYrI4uH8tcQlRyW/UBlXIXGtq90CiaiXu2X0kluq9qjhMhL5NC1UdiORLH3O8ogoMTJqI8Fo7IEOh3EERB7DyNDgxvKiiaJDGaLGDTwB+dvXV/A1XunQWlVzpLo2QqmCtYfjzospnEYSJMgX9UnWejHtjr6iuBSnQMjwlU4XsSoXPVyKqUUtDh1bSX2QXEZWM7ZwuV1bIWD0/RRVpCkJLlbxEl29zzaKSdS/fpbckE8XtmYZNZuO7ZjRhByaz5Wotobu31eu5f9B4EVGNMDatzieTVWr2EvsBRIV/g7PBvWox2O759z+JCvexMw5ZdHxCq5qBOnvFopqgAZD1LzkTcaPKV+NNZuO7ZjRhKs+b6iAp0/3aN4dzALqLygQl7PWqsnOxtbPqIKJywb16rGeJoqpuxO2QsFWIvDq1cg7FUkxMCEb/roIHKfWqVVOJpX3lPkuT2fiuGU2YxMgJO+T8mHxsYzybZ+X3gT+zWS26/ZNPR1EZF6W00kwJqQSx/ryoGvE/vR84zvuiaZe3PoUbfdWiehb9uKtKzOaDv9pM4DhktnhnIcSP1IQpSOfu57ttlvzkJd+ZoOD4uUwK8HhENdF9+VtF9Sg5t9HCn0mfX1YMcAuisvfa0WJ0/oZGEyaTIirxnPMJTrL4sZxB1yaqYhetBjRp75idi+oT083b1KNZ5IfDTmUkOajHCehqgd/tazGDZDpbfkp1zW0K8GCmUtT5arysCkT1I1XHHhrLDVpFlW+Gul09L1Y6bbs6mkkSFf5juPj37MuJStqCRjRhMimiMhXhdzUbPzzL+3xrP+02UcnvtKBJ+8aZWWdh6ob5BkcXFJUR+r6mgtwnDJti/g8gwFdsUYqo6sj7p3ZRad9f8uVECBpEFUJDH/+cqEzktMAe+F+vqGTfG99stQwsZtLYCxJdTlSmenmNGku0/2DFpyuYFfiZi7h5KdalTmfP8qdVGYfYZ/CLSryFCFHlO6Iayt2xcjqISp2tf09UOp/akI9GhCvuqRClqJW6cv+T79cCAy4nKmmd3EFeDupVKIgwMmJY10ddY/l3o9MhctVyLirxAAHC009SE2JElXXz+S5SP6t6/ekgKt2K/bKiCt6grVT7iv4JuvIxa52sVXUZbaJqGVOJGZq0dyZ7Y5mPce63+M02qJF+upguE7zcrZMLZEtoa7tXG3EbK1v3lJi9Sdv3gWwjTlTZ781mi3nxn5wV/KLyrrqAmJ+zUZWmuRFR9fWeSnlcbXbb1dxxT9pE1UKn5r5XmszGd81owliksoYzScauzijFYPQWLC/xHJOCgD5iRdWAX1Qx/Jui8kNRpSBxx3Cu+7crB7KoKuQ2Zn0yPDL/8DGB6xJVaPIofqHLqrYCimpwmszGd81owlhkt9nw4Cf8dcuF8lq2vudSItclKrEhjbC3b3O2qKI61HP486Kay2ysEJowFnnjF36pJOGgypA1R7q4FlEFx2qxUFQUVT80mY3veujNS2RoVJ2DYHEPJ+5LP1Rxt6R1GOP1wR9z/yiqDFhDUbUgIUN3AxjFvxe0Qf5xLahG08V5tjpK47pENdgmJxTV4DSZje/6FdW9vFPa+xw5bAKTdVQB4Rg1eiODuk/n5ULqDfQoqsGgqAanyWx816+odE7qae/859VUp9L9NE+oOLx6ZPUkc0KdufhdoKgoqn5oMhvftZA8G1hWo4CvjXn5+bJabfM368WClDrmLw1Ox4+lvaJx9pqvzEqYUxviHxJVM5rQB0TV8h8koVk88VBUqYyrEyktjm/BQVOGmRtoqE0z/+5jiSNFpWhCHxBVC+c/BUWVzoMlj5Jj5Y8mfTz7J8NmTWd9K5guUFSKJvRBUcXQZDa+a6GLqLJeZ761VzPBF4yK3c3Kv8sv+H03+X8+2A3C2vhajhK5BVFZf3MXQBP6oKhi6GR2L2BzJKyIT9vvejxbrMT5A+vVMH+p9adFdf1gbbLZagnZeYOiwvuNQKT630XeEelxEm27rIXBMuBBGoibBtmZXDulEPSYEEIIIYQQQgghhBBCCCGEEEIIIYQQQgghhBBCCCGEEEIIIYQQQgghhBBCCCGEEEIIIYQQQgghhBBCCCGEEEIIIYQQQgghhBBCCCGEEEIIIYQQQgghhBByd3d39x/TL3yfVtBDjwAAAABJRU5ErkJggg==)"
      ],
      "metadata": {
        "id": "17mhCD9s5epv"
      }
    },
    {
      "cell_type": "markdown",
      "source": [
        "분석 목적: 사출 공정에서 발생하는 품질 문제를 해결"
      ],
      "metadata": {
        "id": "Vyc4uAoF5iyi"
      }
    },
    {
      "cell_type": "markdown",
      "source": [
        "사출성형이란?  <br>\n",
        "플라스틱 성형법 중의 한 방법으로서,열가소성 수지를 가열해서 유동 상태로 되었을 때 금형의 공동부(cavity)에 가압 주입하여 금형 내에 냉각시킴으로써, 금형의 공동부에 상당하는 성형품을 만드는 방법"
      ],
      "metadata": {
        "id": "5JrpdrSf5n51"
      }
    },
    {
      "cell_type": "markdown",
      "source": [
        "사출 성형 과정 <br>\n",
        "1. 충전단계: 사출기의 스크류가 전진함에 따라 처음에는 금형의 cavity 내로 수지가 유입되는 단계 <br>\n",
        "2. 가압단계: 스크류가 더욱 전진하여 금형의 cavity에 압력이 가해지는 단계 <br>\n",
        "3. 보압단계: 가압 단계 이후에도 스크류는 완전히 정지하지 않고 한동안 천천히 계속해서 전진하는데 이때 약 25%의 체적 변화가 생겨 이를 보상하기 위한 단계"
      ],
      "metadata": {
        "id": "i2IkLBCw6JT3"
      }
    },
    {
      "cell_type": "markdown",
      "source": [
        "성형품의 품질 저하에 영향을 주는 것 <br>\n",
        "수지온도, 사출속도와 압력, 균일한 냉각"
      ],
      "metadata": {
        "id": "gWD9B_T-6mQs"
      }
    },
    {
      "cell_type": "markdown",
      "source": [
        "*제조 데이터 분석을 위한 데이터의 품질 기준은 95%이상의 정교성이 보장되어야함 <br>\n",
        "데이터의 품질 지수 <br>\n",
        "- 완전성: 필수항목에 누락 없음\n",
        "- 유일성: 데이터 항목은 유일해야 하며 중복 x\n",
        "- 유효성: 데이터 항목은 정해진 데이터 유효범위 및 도메인을 충족\n",
        "- 일관성: 데이터가 지켜야 할 구조, 값, 표현되는 형태가 일관되게 정의 및 일치\n",
        "- 정확성: 실제 존재하는 객체의 표현 값이 정확히 반영되어야 한다."
      ],
      "metadata": {
        "id": "8qkO4nTC7JZD"
      }
    },
    {
      "cell_type": "markdown",
      "source": [
        "데이터 특징 <br>\n",
        "정상 샘플과 비정상 샘플들의 label이 존재하여 지도학습 방식으로 훈련 + 정확성 높다. <br>\n",
        "단 정상 샘플이 비정상 샘플보다 월등히 많기 때문에 데이터 불균형 문제가 빈번하게 발생한다. <br>\n",
        "따라서 비용함수를 설계하거나 오버샘플링을 진행"
      ],
      "metadata": {
        "id": "hXzvavZX7vsr"
      }
    },
    {
      "cell_type": "code",
      "execution_count": null,
      "metadata": {
        "id": "vkIId2Hj5yEQ"
      },
      "outputs": [],
      "source": [
        "import pandas as pd\n",
        "import numpy as np\n",
        "pd.options.display.max_columns = None\n",
        "df = pd.read_csv('/content/drive/MyDrive/AI부트캠프/Section2/3주차/데이터셋/labeled_data.csv', index_col=0)"
      ]
    },
    {
      "cell_type": "markdown",
      "source": [
        "모데이터는 비식별화된 80만개의 데이터지만 <br> 그 중에서 일부분을 가져와 가공일자, 제품의 시리얼 넘버, 모든 값들이 0으로 채워져 있는 등 <br> 불필요한 열들을 제거하여 총 26개의 변수만 남겨둔 데이터 셋이다."
      ],
      "metadata": {
        "id": "bopfBQ5a8N3v"
      }
    },
    {
      "cell_type": "code",
      "source": [
        "df.head()"
      ],
      "metadata": {
        "id": "daKcer2G40Wm"
      },
      "execution_count": null,
      "outputs": []
    },
    {
      "cell_type": "code",
      "source": [
        "df = df.reset_index(drop=True)"
      ],
      "metadata": {
        "id": "_JY1S9u7qlXe"
      },
      "execution_count": null,
      "outputs": []
    },
    {
      "cell_type": "code",
      "source": [
        "df.shape"
      ],
      "metadata": {
        "id": "Ry5XATTI6DpU"
      },
      "execution_count": null,
      "outputs": []
    },
    {
      "cell_type": "code",
      "source": [
        "df.nunique()"
      ],
      "metadata": {
        "id": "ZMRrKkNVPGRW"
      },
      "execution_count": null,
      "outputs": []
    },
    {
      "cell_type": "code",
      "source": [
        "df.isnull().sum()"
      ],
      "metadata": {
        "id": "Hbzc7qTOPI4u"
      },
      "execution_count": null,
      "outputs": []
    },
    {
      "cell_type": "code",
      "source": [
        "df.dtypes"
      ],
      "metadata": {
        "id": "w5C5tOE_6G5j"
      },
      "execution_count": null,
      "outputs": []
    },
    {
      "cell_type": "code",
      "source": [
        "df = df.drop(['TimeStamp','EQUIP_CD','Mold_Temperature_1','Mold_Temperature_2','Mold_Temperature_5',\t'Mold_Temperature_6',\t'Mold_Temperature_7',\t'Mold_Temperature_8',\n",
        "              'Mold_Temperature_9',\t'Mold_Temperature_10','Mold_Temperature_11','Mold_Temperature_12', 'PART_FACT_PLAN_DATE','PART_FACT_SERIAL','Reason'], axis = 'columns')"
      ],
      "metadata": {
        "id": "hg9lDdco6NG6"
      },
      "execution_count": null,
      "outputs": []
    },
    {
      "cell_type": "code",
      "source": [
        "df.describe()"
      ],
      "metadata": {
        "id": "jUkDjOVg6JX3"
      },
      "execution_count": null,
      "outputs": []
    },
    {
      "cell_type": "code",
      "source": [
        "#Switch_Over_Position, Barrel_Temperature_7"
      ],
      "metadata": {
        "id": "Sv--UVa5kMph"
      },
      "execution_count": null,
      "outputs": []
    },
    {
      "cell_type": "code",
      "source": [
        "#z-score를 통해 이상치 파악\n",
        "\n",
        "def z_outlier(data):\n",
        "  threshold = 3\n",
        "  \n",
        "  mean = np.mean(data)\n",
        "  std = np.std(data)\n",
        "\n",
        "  z_score = [(y-mean) / std for y in data]\n",
        "\n",
        "  masks = np.where(np.abs(z_score) > threshold)\n",
        "\n",
        "  return masks\n"
      ],
      "metadata": {
        "id": "SSiJ2CimlNKI"
      },
      "execution_count": null,
      "outputs": []
    },
    {
      "cell_type": "code",
      "source": [
        "outliers = z_outlier(df['Switch_Over_Position'])[0]\n",
        "print(len(outliers))\n",
        "outliers"
      ],
      "metadata": {
        "id": "3qg_YhXDnTSg"
      },
      "execution_count": null,
      "outputs": []
    },
    {
      "cell_type": "code",
      "source": [
        "idxs = df['Switch_Over_Position'].index.values"
      ],
      "metadata": {
        "id": "5ogQuBd-o0GB"
      },
      "execution_count": null,
      "outputs": []
    },
    {
      "cell_type": "code",
      "source": [
        "idxs"
      ],
      "metadata": {
        "id": "lkUx9Z4UqryG"
      },
      "execution_count": null,
      "outputs": []
    },
    {
      "cell_type": "code",
      "source": [
        "result = []\n",
        "\n",
        "for idx in idxs:\n",
        "\n",
        "  if idx in outliers:\n",
        "    result.append(True)\n",
        "  else:\n",
        "    result.append(False)\n",
        "      "
      ],
      "metadata": {
        "id": "dET-rPe8o4eh"
      },
      "execution_count": null,
      "outputs": []
    },
    {
      "cell_type": "code",
      "source": [
        "len(result)"
      ],
      "metadata": {
        "id": "1-9Yp0d5pbHS"
      },
      "execution_count": null,
      "outputs": []
    },
    {
      "cell_type": "code",
      "source": [
        "np.sum(result)"
      ],
      "metadata": {
        "id": "xaj2DtvQqGSI"
      },
      "execution_count": null,
      "outputs": []
    },
    {
      "cell_type": "code",
      "source": [
        "df = df.drop(outliers)"
      ],
      "metadata": {
        "id": "bwSQyNbKsTqJ"
      },
      "execution_count": null,
      "outputs": []
    },
    {
      "cell_type": "code",
      "source": [
        "df = df.reset_index(drop=True)"
      ],
      "metadata": {
        "id": "pCdZXJIZ2mqH"
      },
      "execution_count": null,
      "outputs": []
    },
    {
      "cell_type": "code",
      "source": [
        "df.shape"
      ],
      "metadata": {
        "id": "QNvnWnBk1ZEG"
      },
      "execution_count": null,
      "outputs": []
    },
    {
      "cell_type": "code",
      "source": [
        "df['PassOrFail'].value_counts(normalize = True)"
      ],
      "metadata": {
        "id": "-a7RDBAR6QjU"
      },
      "execution_count": null,
      "outputs": []
    },
    {
      "cell_type": "code",
      "source": [
        "df['PassOrFail'].value_counts()"
      ],
      "metadata": {
        "id": "lsE_9YDiaXVq"
      },
      "execution_count": null,
      "outputs": []
    },
    {
      "cell_type": "code",
      "source": [
        "df['EQUIP_NAME'].value_counts()"
      ],
      "metadata": {
        "id": "Dr8YQoMA6mIa"
      },
      "execution_count": null,
      "outputs": []
    },
    {
      "cell_type": "code",
      "source": [
        "df_650톤_우진_2호기 = df.query(\"EQUIP_NAME == '650톤-우진2호기'\")"
      ],
      "metadata": {
        "id": "0hZK7cfd6onV"
      },
      "execution_count": null,
      "outputs": []
    },
    {
      "cell_type": "code",
      "source": [
        "df_650톤_우진_2호기['PART_NAME'].value_counts(normalize = True)"
      ],
      "metadata": {
        "id": "QuozLBtE6yL7"
      },
      "execution_count": null,
      "outputs": []
    },
    {
      "cell_type": "code",
      "source": [
        "df_650톤_우진_2호기['PART_NAME'].unique()"
      ],
      "metadata": {
        "id": "wLDnHggVJES4"
      },
      "execution_count": null,
      "outputs": []
    },
    {
      "cell_type": "code",
      "source": [
        "pip install category_encoders"
      ],
      "metadata": {
        "id": "oRIXFggx6i3t"
      },
      "execution_count": null,
      "outputs": []
    },
    {
      "cell_type": "code",
      "source": [
        "def product(data, product_name):\n",
        "  product = data['PART_NAME'] == product_name\n",
        "  data = data[product]\n",
        "\n",
        "  return data"
      ],
      "metadata": {
        "id": "AKTZwjEg9gz0"
      },
      "execution_count": null,
      "outputs": []
    },
    {
      "cell_type": "code",
      "source": [
        "CN7_RH = product(df, \"CN7 W/S SIDE MLD'G RH\")"
      ],
      "metadata": {
        "id": "XDclQicA-JT_"
      },
      "execution_count": null,
      "outputs": []
    },
    {
      "cell_type": "code",
      "source": [
        "CN7_LH = product(df, \"CN7 W/S SIDE MLD'G LH\")"
      ],
      "metadata": {
        "id": "ERmJ3bbuJQ10"
      },
      "execution_count": null,
      "outputs": []
    },
    {
      "cell_type": "code",
      "source": [
        "CN7 = pd.concat([CN7_RH, CN7_LH], ignore_index = True)"
      ],
      "metadata": {
        "id": "rqmxedeuJ7Ig"
      },
      "execution_count": null,
      "outputs": []
    },
    {
      "cell_type": "code",
      "source": [
        "CN7.describe()"
      ],
      "metadata": {
        "id": "XXzPlbUyKTfj"
      },
      "execution_count": null,
      "outputs": []
    },
    {
      "cell_type": "code",
      "source": [
        "CN7 = CN7.drop(['Barrel_Temperature_7','Switch_Over_Position'],\t axis = 'columns')"
      ],
      "metadata": {
        "id": "5NrGt29zKzOb"
      },
      "execution_count": null,
      "outputs": []
    },
    {
      "cell_type": "code",
      "source": [
        "CN7['PassOrFail'] = CN7['PassOrFail'].replace('Y',0).replace('N',1)"
      ],
      "metadata": {
        "id": "OF5m9ulpMRTq"
      },
      "execution_count": null,
      "outputs": []
    },
    {
      "cell_type": "code",
      "source": [
        "CN7['PassOrFail'].value_counts()"
      ],
      "metadata": {
        "id": "3wlrA63VMiZz"
      },
      "execution_count": null,
      "outputs": []
    },
    {
      "cell_type": "code",
      "source": [
        "from category_encoders import OneHotEncoder\n",
        "encoder = OneHotEncoder(use_cat_names = True)\n",
        "CN7_ = encoder.fit_transform(CN7)"
      ],
      "metadata": {
        "id": "WKMxNRCRFrAe"
      },
      "execution_count": null,
      "outputs": []
    },
    {
      "cell_type": "code",
      "source": [
        "CN7_"
      ],
      "metadata": {
        "id": "44V30G3_H1Ze"
      },
      "execution_count": null,
      "outputs": []
    },
    {
      "cell_type": "code",
      "source": [
        "from imblearn.over_sampling import BorderlineSMOTE\n",
        "from imblearn.pipeline import Pipeline\n",
        "\n",
        "from category_encoders import OneHotEncoder\n",
        "from sklearn.feature_selection import f_regression, SelectKBest\n",
        "from sklearn.impute import SimpleImputer\n",
        "from sklearn.linear_model import Ridge\n",
        "from sklearn.model_selection import cross_val_score\n",
        "from sklearn.pipeline import make_pipeline\n",
        "from sklearn.preprocessing import StandardScaler\n",
        "from sklearn.preprocessing import MinMaxScaler\n",
        "from sklearn.model_selection import train_test_split\n",
        "from category_encoders import OrdinalEncoder\n",
        "from xgboost import XGBClassifier\n"
      ],
      "metadata": {
        "id": "kWtm92br52T0"
      },
      "execution_count": null,
      "outputs": []
    },
    {
      "cell_type": "code",
      "source": [
        "target = 'PassOrFail'\n",
        "features = CN7_.drop(columns=[target]).columns"
      ],
      "metadata": {
        "id": "-GbsHsXruMc8"
      },
      "execution_count": null,
      "outputs": []
    },
    {
      "cell_type": "code",
      "source": [
        "def prep_data(df):\n",
        "  X = df[features]\n",
        "  y = df[target]\n",
        "  return X,y"
      ],
      "metadata": {
        "id": "c0DmkdnA-Y44"
      },
      "execution_count": null,
      "outputs": []
    },
    {
      "cell_type": "code",
      "source": [
        "CN7_X, CN7_y = prep_data(CN7_)"
      ],
      "metadata": {
        "id": "knHvcsZF_zsc"
      },
      "execution_count": null,
      "outputs": []
    },
    {
      "cell_type": "code",
      "source": [
        "X_train, X_test, y_train, y_test = train_test_split(CN7_X, CN7_y, test_size=0.4, random_state=2)\n",
        "print(X_train.shape, X_test.shape)"
      ],
      "metadata": {
        "id": "ljdTdnQWA7mQ"
      },
      "execution_count": null,
      "outputs": []
    },
    {
      "cell_type": "markdown",
      "source": [
        "***기준모델 만들기***"
      ],
      "metadata": {
        "id": "VhhgRrFT9Jbo"
      }
    },
    {
      "cell_type": "code",
      "source": [
        "# mode(): Return the highest frequency value in a Series.\n",
        "result = y_train.mode()[0]\n",
        "\n",
        "# 타겟 샘플 수 만큼 0이 담긴 리스트를 만듭니다. 기준모델로 예측\n",
        "basic_model = [result] * len(y_train)"
      ],
      "metadata": {
        "id": "wdg58S45BDD3"
      },
      "execution_count": null,
      "outputs": []
    },
    {
      "cell_type": "code",
      "source": [
        "from sklearn.metrics import *"
      ],
      "metadata": {
        "id": "8HYO0lHUBm_Q"
      },
      "execution_count": null,
      "outputs": []
    },
    {
      "cell_type": "code",
      "source": [
        "# 기준모델의 정확도\n",
        "print(\"training accuracy: \", accuracy_score(y_train, basic_model))"
      ],
      "metadata": {
        "id": "u0tgtst5BM9l"
      },
      "execution_count": null,
      "outputs": []
    },
    {
      "cell_type": "markdown",
      "source": [
        "train데이터 **오버샘플링**"
      ],
      "metadata": {
        "id": "kg7Ya05Z9SWk"
      }
    },
    {
      "cell_type": "code",
      "source": [
        "! pip install imbalanced-learn"
      ],
      "metadata": {
        "id": "oGWHHbXVawgv"
      },
      "execution_count": null,
      "outputs": []
    },
    {
      "cell_type": "code",
      "source": [
        "from imblearn.over_sampling import SMOTE"
      ],
      "metadata": {
        "id": "SNb7T-J-L2cT"
      },
      "execution_count": null,
      "outputs": []
    },
    {
      "cell_type": "code",
      "source": [
        "# transform the dataset\n",
        "oversample = SMOTE()\n",
        "X_resampled, y_resampled = oversample.fit_resample(X_train,list(y_train))"
      ],
      "metadata": {
        "id": "HgFRvDDjZdof"
      },
      "execution_count": null,
      "outputs": []
    },
    {
      "cell_type": "code",
      "source": [
        "print('After OverSampling, the shape of train_X: {}'.format(X_resampled.shape))\n",
        "print('After OverSampling, the shape of train_y: {} \\n'.format(X_resampled.shape))"
      ],
      "metadata": {
        "id": "YPEH4Wq5LpcS"
      },
      "execution_count": null,
      "outputs": []
    },
    {
      "cell_type": "code",
      "source": [
        "# target(Price)와 가장 correlated 된 features 를 k개 고르기.\n",
        "## f_regresison, SelectKBest 불러오기.\n",
        "from sklearn.feature_selection import f_regression, SelectKBest\n",
        "## selctor 정의하기.\n",
        "selector = SelectKBest(score_func=f_regression, k=20)\n",
        "## 학습데이터에 fit_transform \n",
        "X_train_selected = selector.fit_transform(X_resampled, y_resampled)\n",
        "## 테스트 데이터는 transform\n",
        "X_test_selected = selector.transform(X_test)\n",
        "X_train_selected.shape, X_test_selected.shape"
      ],
      "metadata": {
        "id": "CEuOZ4ofIauF"
      },
      "execution_count": null,
      "outputs": []
    },
    {
      "cell_type": "code",
      "source": [
        "all_names = X_resampled.columns\n",
        "## selector.get_support()\n",
        "selected_mask = selector.get_support()\n",
        "## 선택된 특성(변수)들\n",
        "selected_names = all_names[selected_mask]\n",
        "## 선택되지 않은 특성(변수)들\n",
        "unselected_names = all_names[~selected_mask]\n",
        "print('Selected names: ', selected_names)\n",
        "print('Unselected names: ', unselected_names)"
      ],
      "metadata": {
        "id": "rLBzPYFwItHa"
      },
      "execution_count": null,
      "outputs": []
    },
    {
      "cell_type": "markdown",
      "source": [
        "변수선택"
      ],
      "metadata": {
        "id": "yS5AKNYW9Xs1"
      }
    },
    {
      "cell_type": "code",
      "source": [
        "features_21 = [\"PART_NAME_CN7 W/S SIDE MLD'G RH\", \"PART_NAME_CN7 W/S SIDE MLD'G LH\",\n",
        "       'Injection_Time', 'Filling_Time',\n",
        "       'Cycle_Time', 'Clamp_Close_Time', 'Plasticizing_Position',\n",
        "       'Max_Injection_Speed', 'Max_Screw_RPM', 'Average_Screw_RPM',\n",
        "       'Max_Injection_Pressure', 'Max_Switch_Over_Pressure',\n",
        "       'Max_Back_Pressure', 'Average_Back_Pressure', 'Barrel_Temperature_3',\n",
        "       'Barrel_Temperature_4', 'Barrel_Temperature_5', 'Barrel_Temperature_6',\n",
        "       'Hopper_Temperature', 'Mold_Temperature_3', 'Mold_Temperature_4']"
      ],
      "metadata": {
        "id": "GEpXSTm3Jba8"
      },
      "execution_count": null,
      "outputs": []
    },
    {
      "cell_type": "code",
      "source": [
        "X_train_r = X_resampled[features_21]"
      ],
      "metadata": {
        "id": "ddAld0ncJlzF"
      },
      "execution_count": null,
      "outputs": []
    },
    {
      "cell_type": "code",
      "source": [
        "y_train_r = y_resampled"
      ],
      "metadata": {
        "id": "qHXnHF4oiwzZ"
      },
      "execution_count": null,
      "outputs": []
    },
    {
      "cell_type": "code",
      "source": [
        "X_test = X_test[features_21]\n",
        "X_test.shape"
      ],
      "metadata": {
        "id": "R4qQtQrdhsbX"
      },
      "execution_count": null,
      "outputs": []
    },
    {
      "cell_type": "code",
      "source": [
        "from sklearn.metrics import *\n",
        "def get_clf_eval(y_test, pred=None, pred_proba=None):\n",
        "  confusion = confusion_matrix(y_test, pred)\n",
        "  accuracy = accuracy_score(y_test, pred)\n",
        "  precision = precision_score(y_test, pred)\n",
        "  recall = recall_score(y_test, pred)\n",
        "  f1 = f1_score(y_test, pred)\n",
        "  roc_auc = roc_auc_score(y_test, pred_proba)\n",
        "  print('오차 행렬')\n",
        "  print(confusion)\n",
        "  print('정확도: {0:.4f}, 정밀도: {1:.4f}, 재현율: {2:.4f}, F1:{3:.4f}, AUC: {4:.4f}'.format(accuracy, precision, recall, f1, roc_auc))"
      ],
      "metadata": {
        "id": "9Dqp8eKVAQNK"
      },
      "execution_count": null,
      "outputs": []
    },
    {
      "cell_type": "markdown",
      "source": [
        "불량품(1)인데 정품(0)이라고 하면 소비자에게 마이너스라 더 위험, 정밀도 중요"
      ],
      "metadata": {
        "id": "8QdzmImf7ngC"
      }
    },
    {
      "cell_type": "markdown",
      "source": [
        "1.xg분류 알고리즘"
      ],
      "metadata": {
        "id": "eDlAMQbL9cat"
      }
    },
    {
      "cell_type": "code",
      "source": [
        "xg_clf = XGBClassifier()\n",
        "\n",
        "xg_clf.fit(X_train_r,y_train_r)"
      ],
      "metadata": {
        "id": "PEyz3AiAU1gw"
      },
      "execution_count": null,
      "outputs": []
    },
    {
      "cell_type": "code",
      "source": [
        "y_pred = xg_clf.predict(X_test)\n",
        "pred_proba_xg = xg_clf.predict_proba(X_test)[:,1].reshape(-1,1)\n",
        "get_clf_eval(y_test, y_pred, pred_proba_xg)"
      ],
      "metadata": {
        "id": "YLYSSj1-U-PU"
      },
      "execution_count": null,
      "outputs": []
    },
    {
      "cell_type": "code",
      "source": [
        "from sklearn.pipeline import make_pipeline\n",
        "from category_encoders import OrdinalEncoder\n",
        "from xgboost import XGBClassifier\n",
        "\n",
        "pipe = make_pipeline(\n",
        "    OrdinalEncoder(),\n",
        "   XGBClassifier(booster='gbtree', \n",
        "                    colsample_bylevel=0.9, \n",
        "                    colsample_bytree=0.8, \n",
        "                    gamma=0, \n",
        "                    max_depth=8, \n",
        "                    min_child_weight=3, \n",
        "                    n_estimators=50, \n",
        "                    nthread=4, \n",
        "                    objective='binary:logistic', \n",
        "                    random_state=2, \n",
        "                    silent= True)\n",
        "\n",
        "\n",
        ")\n",
        "\n",
        "pipe.fit(X_train_r, y_train_r);"
      ],
      "metadata": {
        "id": "7E10KVA4h31M"
      },
      "execution_count": null,
      "outputs": []
    },
    {
      "cell_type": "code",
      "source": [
        "y_pred = pipe.predict(X_test)\n",
        "pred_proba_pipe = pipe.predict_proba(X_test)[:,1].reshape(-1,1)\n",
        "get_clf_eval(y_test, y_pred, pred_proba_pipe)"
      ],
      "metadata": {
        "id": "glXXZAQzjd08"
      },
      "execution_count": null,
      "outputs": []
    },
    {
      "cell_type": "code",
      "source": [
        "from sklearn.preprocessing import Binarizer"
      ],
      "metadata": {
        "id": "zA3PbpHIMCBH"
      },
      "execution_count": null,
      "outputs": []
    },
    {
      "cell_type": "code",
      "source": [
        "thresholds = [0.4, 0.42, 0.44, 0.46, 0.48, 0.50, 0.52]\n",
        "\n",
        "def get_eval_by_threshold(y_test, pred_proba_c1, thresholds):\n",
        "  for custom_threshold in thresholds:\n",
        "    binarizer = Binarizer(threshold = custom_threshold).fit(pred_proba_c1)\n",
        "    custom_predict = binarizer.transform(pred_proba_c1)\n",
        "    print('임곗값:', custom_threshold)\n",
        "    get_clf_eval(y_test, custom_predict, pred_proba_c1)"
      ],
      "metadata": {
        "id": "6HdQoZtp7REd"
      },
      "execution_count": null,
      "outputs": []
    },
    {
      "cell_type": "code",
      "source": [
        "get_eval_by_threshold(y_test, pred_proba_pipe, thresholds)"
      ],
      "metadata": {
        "id": "6v51EE7NuzZg"
      },
      "execution_count": null,
      "outputs": []
    },
    {
      "cell_type": "code",
      "source": [
        "pip install eli5"
      ],
      "metadata": {
        "id": "bgGN7SxZlk44"
      },
      "execution_count": null,
      "outputs": []
    },
    {
      "cell_type": "code",
      "source": [
        "import eli5\n",
        "from eli5.sklearn import PermutationImportance\n",
        "\n",
        "pipe.named_steps"
      ],
      "metadata": {
        "id": "2HQHPFTplSV5"
      },
      "execution_count": null,
      "outputs": []
    },
    {
      "cell_type": "code",
      "source": [
        "permuter = PermutationImportance(\n",
        "    pipe.named_steps['xgbclassifier'],\n",
        "    scoring='accuracy', \n",
        "    n_iter=5,\n",
        "    random_state=2\n",
        ")"
      ],
      "metadata": {
        "id": "pjphiM1qlo4f"
      },
      "execution_count": null,
      "outputs": []
    },
    {
      "cell_type": "code",
      "source": [
        "X_test_transformed = pipe.named_steps['ordinalencoder'].transform(X_test)\n",
        "\n",
        "permuter.fit(X_test_transformed, y_test);"
      ],
      "metadata": {
        "id": "uUBgm4iAlwpp"
      },
      "execution_count": null,
      "outputs": []
    },
    {
      "cell_type": "code",
      "source": [
        "eli5.show_weights(\n",
        "    permuter, \n",
        "    top=None, \n",
        "    feature_names=features_21\n",
        ")\n"
      ],
      "metadata": {
        "id": "Nyi74d4Yl5ye"
      },
      "execution_count": null,
      "outputs": []
    },
    {
      "cell_type": "code",
      "source": [
        "from sklearn.metrics import *"
      ],
      "metadata": {
        "id": "Gf1uj20qAHx3"
      },
      "execution_count": null,
      "outputs": []
    },
    {
      "cell_type": "markdown",
      "source": [
        "2. 로지스틱회귀곡선"
      ],
      "metadata": {
        "id": "zBMHsxV_9geH"
      }
    },
    {
      "cell_type": "code",
      "source": [
        "from sklearn.linear_model import LogisticRegression"
      ],
      "metadata": {
        "id": "fTMyJn2t9huU"
      },
      "execution_count": null,
      "outputs": []
    },
    {
      "cell_type": "code",
      "source": [
        "Ir_clf = LogisticRegression(solver='liblinear')\n",
        "Ir_clf.fit(X_train_r,y_train_r)\n",
        "y_pred2 = Ir_clf.predict(X_test)\n",
        "pred_proba_Ir = Ir_clf.predict_proba(X_test)[:,1].reshape(-1,1)\n",
        "get_clf_eval(y_test, y_pred3, pred_proba_Ir)"
      ],
      "metadata": {
        "id": "pA4aYhaz9oZF"
      },
      "execution_count": null,
      "outputs": []
    },
    {
      "cell_type": "code",
      "source": [
        "get_eval_by_threshold(y_test, pred_proba_Ir, thresholds)"
      ],
      "metadata": {
        "id": "UFztsqMBvBC0"
      },
      "execution_count": null,
      "outputs": []
    },
    {
      "cell_type": "markdown",
      "source": [
        "3. 랜덤 포레스트"
      ],
      "metadata": {
        "id": "PFcLlrOhk7qY"
      }
    },
    {
      "cell_type": "code",
      "source": [
        "from sklearn.ensemble import RandomForestClassifier\n",
        "from sklearn.metrics import accuracy_score"
      ],
      "metadata": {
        "id": "Fc3XHtDD7Qng"
      },
      "execution_count": null,
      "outputs": []
    },
    {
      "cell_type": "code",
      "source": [
        "rf_clf = RandomForestClassifier()\n",
        "rf_clf.fit(X_train_r,y_train_r)\n",
        "y_pred2 = rf_clf.predict(X_test)\n",
        "\n",
        "pred_proba_rf = rf_clf.predict_proba(X_test)[:,1].reshape(-1,1)\n",
        "get_clf_eval(y_test, y_pred2, pred_proba_rf)"
      ],
      "metadata": {
        "id": "XVpL32DR7h1B"
      },
      "execution_count": null,
      "outputs": []
    },
    {
      "cell_type": "code",
      "source": [
        "get_eval_by_threshold(y_test, pred_proba_rf, thresholds)"
      ],
      "metadata": {
        "id": "0aA4SEOGL7n_"
      },
      "execution_count": null,
      "outputs": []
    },
    {
      "cell_type": "code",
      "source": [
        "import seaborn as sns"
      ],
      "metadata": {
        "id": "PN8WgLrpWJjw"
      },
      "execution_count": null,
      "outputs": []
    },
    {
      "cell_type": "code",
      "source": [
        " from matplotlib import pyplot as plt"
      ],
      "metadata": {
        "id": "3fa0l4rnwN2H"
      },
      "execution_count": null,
      "outputs": []
    },
    {
      "cell_type": "code",
      "source": [
        "# 파이프라인 구축\n",
        "pipe_10 = make_pipeline(\n",
        "    OrdinalEncoder(),\n",
        "    SimpleImputer(), \n",
        "    RandomForestClassifier(n_jobs=-1, random_state=0, max_depth=100, oob_score=True, n_estimators = 10)\n",
        ")\n",
        "print(\"n_estimators = 10 일때\")\n",
        "\n",
        "# 모델 학습 및 정확도 측정\n",
        "pipe_10.fit(X_train_r,y_train_r)\n",
        "y_pred10 = pipe_10.predict(X_test)\n",
        "\n",
        "pred_proba_rf_10 = pipe_10.predict_proba(X_test)[:,1].reshape(-1,1)\n",
        "get_clf_eval(y_test, y_pred10, pred_proba_rf_10)\n",
        "\n",
        "# 확률값 분포\n",
        "y_pred_proba_10 = pipe_10.predict_proba(X_test)[:, 1]\n",
        "sns.displot(y_pred_proba_10)\n",
        "plt.title(\"predict_proba\")\n",
        "plt.show()"
      ],
      "metadata": {
        "id": "7SsknPoNxH0d"
      },
      "execution_count": null,
      "outputs": []
    },
    {
      "cell_type": "code",
      "source": [
        "# 파이프라인 구축\n",
        "pipe_100 = make_pipeline(\n",
        "    OrdinalEncoder(),\n",
        "    SimpleImputer(), \n",
        "    RandomForestClassifier(n_jobs=-1, random_state=0, max_depth=100, oob_score=True, n_estimators = 100)\n",
        ")\n",
        "print(\"n_estimators = 100 일때\")\n",
        "\n",
        "# 모델 학습 및 정확도 측정\n",
        "pipe_100.fit(X_train_r,y_train_r)\n",
        "y_pred100 = pipe_100.predict(X_test)\n",
        "\n",
        "pred_proba_rf_100 = pipe_100.predict_proba(X_test)[:,1].reshape(-1,1)\n",
        "get_clf_eval(y_test, y_pred100, pred_proba_rf_100)\n",
        "\n",
        "# 확률값 분포\n",
        "y_pred_proba_100 = pipe_100.predict_proba(X_test)[:, 1]\n",
        "sns.displot(y_pred_proba_100)\n",
        "plt.title(\"predict_proba\")\n",
        "plt.show()"
      ],
      "metadata": {
        "id": "qaU_us-5voMQ"
      },
      "execution_count": null,
      "outputs": []
    },
    {
      "cell_type": "code",
      "source": [
        "# 파이프라인 구축\n",
        "pipe_1000 = make_pipeline(\n",
        "    OrdinalEncoder(),\n",
        "    SimpleImputer(), \n",
        "    RandomForestClassifier(n_jobs=-1, random_state=0, max_depth=100, oob_score=True, n_estimators = 1000)\n",
        ")\n",
        "print(\"n_estimators = 1000 일때\")\n",
        "\n",
        "# 모델 학습 및 정확도 측정\n",
        "pipe_1000.fit(X_train_r,y_train_r)\n",
        "y_pred100 = pipe_1000.predict(X_test)\n",
        "\n",
        "pred_proba_rf_1000 = pipe_1000.predict_proba(X_test)[:,1].reshape(-1,1)\n",
        "get_clf_eval(y_test, y_pred100, pred_proba_rf_1000)\n",
        "\n",
        "# 확률값 분포\n",
        "y_pred_proba_1000 = pipe_1000.predict_proba(X_test)[:, 1]\n",
        "sns.displot(y_pred_proba_1000)\n",
        "plt.title(\"predict_proba\")\n",
        "plt.show()"
      ],
      "metadata": {
        "id": "OSoKic0FwcER"
      },
      "execution_count": null,
      "outputs": []
    },
    {
      "cell_type": "code",
      "source": [
        ""
      ],
      "metadata": {
        "id": "wVnk96AfZxcM"
      },
      "execution_count": null,
      "outputs": []
    },
    {
      "cell_type": "code",
      "source": [
        "from scipy.stats import randint, uniform\n",
        "from category_encoders.target_encoder import TargetEncoder\n",
        "from sklearn.model_selection import RandomizedSearchCV\n",
        "\n",
        "\n",
        "\n",
        "pipe_rf = make_pipeline(\n",
        "    TargetEncoder(), \n",
        "    SimpleImputer(), \n",
        "    RandomForestClassifier()\n",
        ")\n",
        "\n",
        "dists = {\n",
        "    'targetencoder__smoothing': [2.,20.,50.,60.,100.,500.,1000.], # int로 넣으면 error(bug)\n",
        "    'targetencoder__min_samples_leaf': randint(1, 10),     \n",
        "    'simpleimputer__strategy': ['mean', 'median'], \n",
        "    'randomforestclassifier__n_estimators': randint(50, 500), \n",
        "    'randomforestclassifier__max_depth': [10, 50, 100, 200, 300, 500, 1000, None], \n",
        "    'randomforestclassifier__max_features': ['auto', 'sqrt','log2', None] # max_features\n",
        "}\n",
        "\n",
        "clf_rf_ = RandomizedSearchCV(\n",
        "    pipe_rf, \n",
        "    param_distributions=dists, \n",
        "    n_iter=50, \n",
        "    cv=3, \n",
        "    scoring='neg_mean_absolute_error',  \n",
        "    verbose=1,\n",
        "    n_jobs=-1\n",
        ")\n",
        "\n",
        "\n"
      ],
      "metadata": {
        "id": "niMSJk4lZGKY"
      },
      "execution_count": null,
      "outputs": []
    },
    {
      "cell_type": "code",
      "source": [
        "clf_rf_ .get_params().keys()\n"
      ],
      "metadata": {
        "id": "eAgDDP4GIF7S"
      },
      "execution_count": null,
      "outputs": []
    },
    {
      "cell_type": "code",
      "source": [
        "\n",
        "clf_rf_.fit(X_train_r,y_train_r);\n",
        "\n",
        "print('최적 하이퍼파라미터: ', clf_rf_.best_params_)\n",
        "print('MAE: ', -clf_rf_.best_score_)\n"
      ],
      "metadata": {
        "id": "na365Mx0IICu"
      },
      "execution_count": null,
      "outputs": []
    },
    {
      "cell_type": "code",
      "source": [
        "pipe_rrf = make_pipeline(\n",
        "    TargetEncoder(min_samples_leaf = 3, smoothing = 2.0), \n",
        "    SimpleImputer(strategy = 'median'), \n",
        "    RandomForestClassifier(max_depth = 50,\n",
        "                           max_features = 'auto',\n",
        "                           n_estimators = 164))\n",
        "\n",
        "pipe_rrf.fit(X_train_r,y_train_r)\n",
        "y_pred3 = pipe_rrf.predict(X_test)\n",
        "\n",
        "pred_proba_rrf = pipe_rrf.predict_proba(X_test)[:,1].reshape(-1,1)\n",
        "get_clf_eval(y_test, y_pred3, pred_proba_rrf)"
      ],
      "metadata": {
        "id": "E-rw2NPkMW6-"
      },
      "execution_count": null,
      "outputs": []
    },
    {
      "cell_type": "code",
      "source": [
        "permuter2 = PermutationImportance(\n",
        "    pipe_rrf,\n",
        "    scoring='accuracy', \n",
        "    n_iter=5,\n",
        "    random_state=2\n",
        ")\n",
        "permuter2.fit(X_test, y_test)"
      ],
      "metadata": {
        "id": "Pc3JD_OdsoUc"
      },
      "execution_count": null,
      "outputs": []
    },
    {
      "cell_type": "code",
      "source": [
        "eli5.show_weights(\n",
        "    permuter2, \n",
        "    top=None, \n",
        "    feature_names=features_21\n",
        ")\n"
      ],
      "metadata": {
        "id": "RoU3aGaWsi6_"
      },
      "execution_count": null,
      "outputs": []
    },
    {
      "cell_type": "code",
      "source": [
        "! pip install pdpbox"
      ],
      "metadata": {
        "id": "sO32Rn1vyFyx"
      },
      "execution_count": null,
      "outputs": []
    },
    {
      "cell_type": "code",
      "source": [
        "! pip install shap"
      ],
      "metadata": {
        "id": "WsS0Q_zsytyv"
      },
      "execution_count": null,
      "outputs": []
    },
    {
      "cell_type": "code",
      "source": [
        "# 1개의 특성만을 사용하여 그래프를 그려보기\n",
        "from pdpbox.pdp import pdp_isolate, pdp_plot\n",
        "from sklearn.metrics import r2_score\n",
        "\n",
        "# 1. \tClamp_Close_Time \n",
        "feature = 'Clamp_Close_Time'\n",
        "\n",
        "# PDP plots\n",
        "isolated = pdp_isolate(\n",
        "    model=pipe_rrf, \n",
        "    dataset=X_train_r, \n",
        "    model_features=X_train_r.columns, \n",
        "    feature=feature\n",
        ")\n",
        "\n",
        "pdp_plot(isolated, feature_name=feature);"
      ],
      "metadata": {
        "id": "j_pZNqBBxrY-"
      },
      "execution_count": null,
      "outputs": []
    },
    {
      "cell_type": "code",
      "source": [
        "# 2. \tPlasticizing_Position\n",
        "feature = 'Plasticizing_Position'\n",
        "\n",
        "# PDP plots\n",
        "isolated = pdp_isolate(\n",
        "    model=pipe_rrf, \n",
        "    dataset=X_train_r, \n",
        "    model_features=X_train_r.columns, \n",
        "    feature=feature\n",
        ")\n",
        "\n",
        "pdp_plot(isolated, feature_name=feature);"
      ],
      "metadata": {
        "id": "MwxFP-QO26bJ"
      },
      "execution_count": null,
      "outputs": []
    },
    {
      "cell_type": "code",
      "source": [
        "# 2. \tMold_Temperature_4\n",
        "feature = 'Mold_Temperature_4'\n",
        "\n",
        "# PDP plots\n",
        "isolated = pdp_isolate(\n",
        "    model=pipe_rrf, \n",
        "    dataset=X_train_r, \n",
        "    model_features=X_train_r.columns, \n",
        "    feature=feature\n",
        ")\n",
        "\n",
        "pdp_plot(isolated, feature_name=feature);"
      ],
      "metadata": {
        "id": "vQH8r9FC3MrW"
      },
      "execution_count": null,
      "outputs": []
    },
    {
      "cell_type": "code",
      "source": [
        "import shap\n",
        "\n",
        "explainer = shap.Explainer(pipe_rrf.predict, X_train_r)\n",
        "shap_values = explainer.shap_values(X_train_r)\n",
        "\n",
        "shap.summary_plot(shap_values, X_train_r, plot_type='bar')"
      ],
      "metadata": {
        "id": "xjq4d3UmiRRF"
      },
      "execution_count": null,
      "outputs": []
    },
    {
      "cell_type": "code",
      "source": [
        ""
      ],
      "metadata": {
        "id": "BgVEy61zvLDr"
      },
      "execution_count": null,
      "outputs": []
    },
    {
      "cell_type": "code",
      "source": [
        "#추가모델실험"
      ],
      "metadata": {
        "id": "LJAX6Nj_yYgK"
      },
      "execution_count": null,
      "outputs": []
    },
    {
      "cell_type": "code",
      "source": [
        "random_search = {'criterion': ['entropy', 'gini'],\n",
        "               'max_depth': randint(1, 100),\n",
        "               'max_features': ['auto', 'sqrt'],\n",
        "               'min_samples_leaf': randint(1, 10),\n",
        "               'min_samples_split': randint(1, 10),\n",
        "               'n_estimators': randint(50, 500)}\n",
        "\n",
        "clf = RandomForestClassifier()\n",
        "random = RandomizedSearchCV(estimator = clf, param_distributions = random_search, n_iter = 10, \n",
        "                               cv = 4, verbose= 1, random_state= 101, n_jobs = -1)\n",
        "random.fit(X_train_r,y_train_r)\n",
        "\n",
        "random_pf = random.best_estimator_.predict(X_test)\n",
        "random_acc = accuracy_score(y_test,random_pf)\n",
        "\n",
        "print(random.best_params_)\n",
        "print(random_acc)"
      ],
      "metadata": {
        "id": "subyExH8eUCA"
      },
      "execution_count": null,
      "outputs": []
    },
    {
      "cell_type": "code",
      "source": [
        "from sklearn.model_selection import GridSearchCV\n",
        "\n",
        "# 탐색 범위 정의\n",
        "grid_search = {'criterion': ['entropy', 'gini'],\n",
        "               'max_depth': [2],\n",
        "               'max_features': ['auto', 'sqrt'],\n",
        "               'min_samples_leaf': [4, 6, 8],\n",
        "               'min_samples_split': [5, 7,10],\n",
        "               'n_estimators': [20]}\n",
        "\n",
        "clf = RandomForestClassifier()\n",
        "grid = GridSearchCV(estimator = clf, param_grid = grid_search, \n",
        "                               cv = 4, verbose= 5, n_jobs = -1)\n",
        "grid.fit(X_train_r,y_train_r)\n",
        "\n",
        "grid_pf = grid.best_estimator_.predict(X_test)\n",
        "grid_acc = accuracy_score(y_test,grid_pf)\n",
        "\n",
        "print(grid.best_params_)\n",
        "print(grid_acc)"
      ],
      "metadata": {
        "id": "lkEA8lN6eDyj"
      },
      "execution_count": null,
      "outputs": []
    }
  ]
}